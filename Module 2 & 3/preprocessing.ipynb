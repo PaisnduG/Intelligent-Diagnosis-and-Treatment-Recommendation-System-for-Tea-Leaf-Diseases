{
 "cells": [
  {
   "cell_type": "code",
   "execution_count": 1,
   "metadata": {},
   "outputs": [
    {
     "name": "stderr",
     "output_type": "stream",
     "text": [
      "c:\\Users\\Legion\\.conda\\envs\\tf210\\lib\\site-packages\\numpy\\_distributor_init.py:30: UserWarning: loaded more than 1 DLL from .libs:\n",
      "c:\\Users\\Legion\\.conda\\envs\\tf210\\lib\\site-packages\\numpy\\.libs\\libopenblas.FB5AE2TYXYH2IJRDKGDGQ3XBKLKTF43H.gfortran-win_amd64.dll\n",
      "c:\\Users\\Legion\\.conda\\envs\\tf210\\lib\\site-packages\\numpy\\.libs\\libopenblas.GK7GX5KEQ4F6UYO3P26ULGBQYHGQO7J4.gfortran-win_amd64.dll\n",
      "  warnings.warn(\"loaded more than 1 DLL from .libs:\"\n"
     ]
    }
   ],
   "source": [
    "import glob\n",
    "import json, os\n",
    "import cv2 as cv\n",
    "import numpy as np\n",
    "import pandas as pd"
   ]
  },
  {
   "cell_type": "code",
   "execution_count": 2,
   "metadata": {},
   "outputs": [],
   "source": [
    "raw_data_dir = 'data/raw/'\n",
    "processed_data_dir = 'data/processed/'"
   ]
  },
  {
   "cell_type": "code",
   "execution_count": 3,
   "metadata": {},
   "outputs": [],
   "source": [
    "def create_masks():\n",
    "    all_images = glob.glob(raw_data_dir + '*/*.jpg')\n",
    "    for image_path in all_images:\n",
    "        image_path = image_path.replace('\\\\', '/')\n",
    "        mask_json_path = image_path.replace('.jpg', '.json')\n",
    "        if os.path.exists(image_path) and os.path.exists(mask_json_path):\n",
    "            # print(\"Processing image: \", image_path)\n",
    "            mask_json = json.load(open(mask_json_path))\n",
    "            image_height = mask_json['imageHeight']\n",
    "            image_width = mask_json['imageWidth']\n",
    "\n",
    "            mask = np.zeros((image_height, image_width), dtype=np.float32)\n",
    "            for shape in mask_json['shapes']:\n",
    "                points = np.array(shape['points'], dtype=np.int32)\n",
    "                label = shape['label']  \n",
    "                if label == 'leaf':\n",
    "                    cv.fillPoly(mask, [points], 255)\n",
    "                elif label == 'spot':\n",
    "                    cv.fillPoly(mask, [points], 128)\n",
    "                else:\n",
    "                    cv.fillPoly(mask, [points], 0)\n",
    "\n",
    "            image_path_new = image_path.replace(raw_data_dir, processed_data_dir + 'images/')\n",
    "            mask_path_new = image_path.replace(raw_data_dir, processed_data_dir + 'masks/').replace('.jpg', '.png')\n",
    "\n",
    "            os.makedirs(os.path.dirname(image_path_new), exist_ok=True)\n",
    "            os.makedirs(os.path.dirname(mask_path_new), exist_ok=True)\n",
    "\n",
    "            # print(\"Saving image: \", image_path_new)\n",
    "            # print(\"Saving mask: \", mask_path_new)\n",
    "            # print('\\n')\n",
    "            cv.imwrite(image_path_new, cv.imread(image_path))\n",
    "            cv.imwrite(mask_path_new, mask)"
   ]
  },
  {
   "cell_type": "code",
   "execution_count": 4,
   "metadata": {},
   "outputs": [],
   "source": [
    "create_masks()"
   ]
  }
 ],
 "metadata": {
  "kernelspec": {
   "display_name": "tf210",
   "language": "python",
   "name": "python3"
  },
  "language_info": {
   "codemirror_mode": {
    "name": "ipython",
    "version": 3
   },
   "file_extension": ".py",
   "mimetype": "text/x-python",
   "name": "python",
   "nbconvert_exporter": "python",
   "pygments_lexer": "ipython3",
   "version": "3.8.13"
  },
  "orig_nbformat": 4
 },
 "nbformat": 4,
 "nbformat_minor": 2
}
